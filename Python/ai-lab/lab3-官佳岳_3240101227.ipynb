{
 "cells": [
  {
   "cell_type": "code",
   "execution_count": 1,
   "metadata": {},
   "outputs": [
    {
     "name": "stdout",
     "output_type": "stream",
     "text": [
      "预测准确率: 0.965034965034965\n"
     ]
    }
   ],
   "source": [
    "from sklearn.datasets import load_breast_cancer\n",
    "from sklearn.model_selection import train_test_split\n",
    "from sklearn.preprocessing import StandardScaler\n",
    "from sklearn.linear_model import LogisticRegression\n",
    "from sklearn.metrics import accuracy_score\n",
    "\n",
    "# 加载乳腺癌数据集\n",
    "data = load_breast_cancer()\n",
    "X = data.data\n",
    "y = data.target\n",
    "# 分离训练集和测试集\n",
    "X_train, X_test, y_train, y_test = train_test_split(X, y, test_size=0.25, random_state=3149)\n",
    "# 对训练集进行标准化处理\n",
    "scaler = StandardScaler()\n",
    "X_train = scaler.fit_transform(X_train)\n",
    "X_test = scaler.transform(X_test)\n",
    "# 创建逻辑回归模型\n",
    "model = LogisticRegression(max_iter=10000)\n",
    "# 训练模型\n",
    "model.fit(X_train, y_train)\n",
    "# 进行预测\n",
    "y_pred = model.predict(X_test)\n",
    "# 计算准确率\n",
    "accuracy = accuracy_score(y_test, y_pred)\n",
    "print(f'预测准确率: {accuracy}')"
   ]
  },
  {
   "cell_type": "markdown",
   "metadata": {},
   "source": [
    "### 实验感受：\n",
    "\n",
    "#### **案例练习**\n",
    "\n",
    "通过本次实验，我对机器学习中的回归问题以及 `sklearn` 库的使用有了基础的理解。实验内容涵盖了数据预处理、模型训练、预测和评估等多个环节，让我对机器学习的整个流程有了更清晰的认识。\n",
    "\n",
    "在实验中，我首先学习了如何进行数据预处理。在加州房价预测的示例中，使用 `train_test_split` 函数将数据集划分为训练集和测试集。这一步骤非常重要，因为我们需要确保模型在训练时不会“看到”测试数据，从而保证评估结果的客观性。此外，我还学习了如何检查数据中的缺失值，并决定是否需要进行填充或删除。在实际应用中，数据往往是不完整的，因此掌握如何处理缺失值是必不可少的。\n",
    "\n",
    "在模型训练环节，我使用了 `LinearRegression` 来进行线性回归模型的训练。通过调用 `fit` 方法，模型能够根据训练数据学习到特征与目标值之间的关系。随后，我使用 `predict` 方法对测试集进行预测，并评估模型的性能。\n",
    "\n",
    "此外，我还通过 `matplotlib` 库对模型的预测结果进行了可视化。通过绘制真实值与预测值的散点图，我能够更直观地看到模型的预测效果。可视化不仅帮助我更好地理解模型的性能，也为后续的模型优化提供了参考。\n",
    "\n",
    "#### **乳腺癌检测的作业**\n",
    "\n",
    "在乳腺癌检测的作业中，我进一步巩固了所学的知识。与加州房价预测不同，乳腺癌检测是一个分类问题，因此我使用了逻辑回归模型来进行预测。在数据预处理环节，我决定对数据进行标准化处理，以确保不同特征的量纲一致，避免某些特征对模型的影响过大。通过设置 `train_test_split` 函数的 `random_state` 参数，我确保了实验的可重复性。最后，我通过计算准确率来评估模型的性能，准确率是分类问题中常用的评估指标，它能够直观地反映模型的预测能力。\n",
    "\n",
    "#### **心得体会**\n",
    "\n",
    "本次实验让我对机器学习的回归和分类问题有了更深入的理解，尤其是在数据预处理、模型训练和评估方面。通过实际操作，我不仅掌握了 `sklearn` 库的使用，还学会了如何通过可视化和评估指标来优化模型性能。这些知识和技能将为我今后的学习和研究打下坚实的基础。"
   ]
  }
 ],
 "metadata": {
  "kernelspec": {
   "display_name": "AI-LAB",
   "language": "python",
   "name": "python3"
  },
  "language_info": {
   "codemirror_mode": {
    "name": "ipython",
    "version": 3
   },
   "file_extension": ".py",
   "mimetype": "text/x-python",
   "name": "python",
   "nbconvert_exporter": "python",
   "pygments_lexer": "ipython3",
   "version": "3.13.2"
  }
 },
 "nbformat": 4,
 "nbformat_minor": 2
}
